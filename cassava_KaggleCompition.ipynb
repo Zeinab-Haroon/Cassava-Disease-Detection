{
  "nbformat": 4,
  "nbformat_minor": 0,
  "metadata": {
    "kernelspec": {
      "display_name": "Python 3",
      "language": "python",
      "name": "python3"
    },
    "language_info": {
      "codemirror_mode": {
        "name": "ipython",
        "version": 3
      },
      "file_extension": ".py",
      "mimetype": "text/x-python",
      "name": "python",
      "nbconvert_exporter": "python",
      "pygments_lexer": "ipython3",
      "version": "3.7.4"
    },
    "colab": {
      "name": "Convnet_project1.ipynb",
      "provenance": [],
      "collapsed_sections": []
    },
    "widgets": {
      "application/vnd.jupyter.widget-state+json": {
        "d31074ec9ad44cf8a249505fd17d822a": {
          "model_module": "@jupyter-widgets/controls",
          "model_name": "HBoxModel",
          "state": {
            "_view_name": "HBoxView",
            "_dom_classes": [],
            "_model_name": "HBoxModel",
            "_view_module": "@jupyter-widgets/controls",
            "_model_module_version": "1.5.0",
            "_view_count": null,
            "_view_module_version": "1.5.0",
            "box_style": "",
            "layout": "IPY_MODEL_adbb9cee23c34f5abab05ceff18b5cf0",
            "_model_module": "@jupyter-widgets/controls",
            "children": [
              "IPY_MODEL_2b230e4ad10243caa43919f67a54a93a",
              "IPY_MODEL_1249857d35e24801853c88ca4aadc7df"
            ]
          }
        },
        "adbb9cee23c34f5abab05ceff18b5cf0": {
          "model_module": "@jupyter-widgets/base",
          "model_name": "LayoutModel",
          "state": {
            "_view_name": "LayoutView",
            "grid_template_rows": null,
            "right": null,
            "justify_content": null,
            "_view_module": "@jupyter-widgets/base",
            "overflow": null,
            "_model_module_version": "1.2.0",
            "_view_count": null,
            "flex_flow": null,
            "width": null,
            "min_width": null,
            "border": null,
            "align_items": null,
            "bottom": null,
            "_model_module": "@jupyter-widgets/base",
            "top": null,
            "grid_column": null,
            "overflow_y": null,
            "overflow_x": null,
            "grid_auto_flow": null,
            "grid_area": null,
            "grid_template_columns": null,
            "flex": null,
            "_model_name": "LayoutModel",
            "justify_items": null,
            "grid_row": null,
            "max_height": null,
            "align_content": null,
            "visibility": null,
            "align_self": null,
            "height": null,
            "min_height": null,
            "padding": null,
            "grid_auto_rows": null,
            "grid_gap": null,
            "max_width": null,
            "order": null,
            "_view_module_version": "1.2.0",
            "grid_template_areas": null,
            "object_position": null,
            "object_fit": null,
            "grid_auto_columns": null,
            "margin": null,
            "display": null,
            "left": null
          }
        },
        "2b230e4ad10243caa43919f67a54a93a": {
          "model_module": "@jupyter-widgets/controls",
          "model_name": "FloatProgressModel",
          "state": {
            "_view_name": "ProgressView",
            "style": "IPY_MODEL_e57484ca36964707908924250714c1ed",
            "_dom_classes": [],
            "description": "100%",
            "_model_name": "FloatProgressModel",
            "bar_style": "success",
            "max": 102502400,
            "_view_module": "@jupyter-widgets/controls",
            "_model_module_version": "1.5.0",
            "value": 102502400,
            "_view_count": null,
            "_view_module_version": "1.5.0",
            "orientation": "horizontal",
            "min": 0,
            "description_tooltip": null,
            "_model_module": "@jupyter-widgets/controls",
            "layout": "IPY_MODEL_c95ba740214142e29aab7515e2a2c562"
          }
        },
        "1249857d35e24801853c88ca4aadc7df": {
          "model_module": "@jupyter-widgets/controls",
          "model_name": "HTMLModel",
          "state": {
            "_view_name": "HTMLView",
            "style": "IPY_MODEL_360d2b2d6519414ab6a9f69926aa10c2",
            "_dom_classes": [],
            "description": "",
            "_model_name": "HTMLModel",
            "placeholder": "​",
            "_view_module": "@jupyter-widgets/controls",
            "_model_module_version": "1.5.0",
            "value": " 97.8M/97.8M [00:00&lt;00:00, 177MB/s]",
            "_view_count": null,
            "_view_module_version": "1.5.0",
            "description_tooltip": null,
            "_model_module": "@jupyter-widgets/controls",
            "layout": "IPY_MODEL_569526a0d5094bf288c827e14c200447"
          }
        },
        "e57484ca36964707908924250714c1ed": {
          "model_module": "@jupyter-widgets/controls",
          "model_name": "ProgressStyleModel",
          "state": {
            "_view_name": "StyleView",
            "_model_name": "ProgressStyleModel",
            "description_width": "initial",
            "_view_module": "@jupyter-widgets/base",
            "_model_module_version": "1.5.0",
            "_view_count": null,
            "_view_module_version": "1.2.0",
            "bar_color": null,
            "_model_module": "@jupyter-widgets/controls"
          }
        },
        "c95ba740214142e29aab7515e2a2c562": {
          "model_module": "@jupyter-widgets/base",
          "model_name": "LayoutModel",
          "state": {
            "_view_name": "LayoutView",
            "grid_template_rows": null,
            "right": null,
            "justify_content": null,
            "_view_module": "@jupyter-widgets/base",
            "overflow": null,
            "_model_module_version": "1.2.0",
            "_view_count": null,
            "flex_flow": null,
            "width": null,
            "min_width": null,
            "border": null,
            "align_items": null,
            "bottom": null,
            "_model_module": "@jupyter-widgets/base",
            "top": null,
            "grid_column": null,
            "overflow_y": null,
            "overflow_x": null,
            "grid_auto_flow": null,
            "grid_area": null,
            "grid_template_columns": null,
            "flex": null,
            "_model_name": "LayoutModel",
            "justify_items": null,
            "grid_row": null,
            "max_height": null,
            "align_content": null,
            "visibility": null,
            "align_self": null,
            "height": null,
            "min_height": null,
            "padding": null,
            "grid_auto_rows": null,
            "grid_gap": null,
            "max_width": null,
            "order": null,
            "_view_module_version": "1.2.0",
            "grid_template_areas": null,
            "object_position": null,
            "object_fit": null,
            "grid_auto_columns": null,
            "margin": null,
            "display": null,
            "left": null
          }
        },
        "360d2b2d6519414ab6a9f69926aa10c2": {
          "model_module": "@jupyter-widgets/controls",
          "model_name": "DescriptionStyleModel",
          "state": {
            "_view_name": "StyleView",
            "_model_name": "DescriptionStyleModel",
            "description_width": "",
            "_view_module": "@jupyter-widgets/base",
            "_model_module_version": "1.5.0",
            "_view_count": null,
            "_view_module_version": "1.2.0",
            "_model_module": "@jupyter-widgets/controls"
          }
        },
        "569526a0d5094bf288c827e14c200447": {
          "model_module": "@jupyter-widgets/base",
          "model_name": "LayoutModel",
          "state": {
            "_view_name": "LayoutView",
            "grid_template_rows": null,
            "right": null,
            "justify_content": null,
            "_view_module": "@jupyter-widgets/base",
            "overflow": null,
            "_model_module_version": "1.2.0",
            "_view_count": null,
            "flex_flow": null,
            "width": null,
            "min_width": null,
            "border": null,
            "align_items": null,
            "bottom": null,
            "_model_module": "@jupyter-widgets/base",
            "top": null,
            "grid_column": null,
            "overflow_y": null,
            "overflow_x": null,
            "grid_auto_flow": null,
            "grid_area": null,
            "grid_template_columns": null,
            "flex": null,
            "_model_name": "LayoutModel",
            "justify_items": null,
            "grid_row": null,
            "max_height": null,
            "align_content": null,
            "visibility": null,
            "align_self": null,
            "height": null,
            "min_height": null,
            "padding": null,
            "grid_auto_rows": null,
            "grid_gap": null,
            "max_width": null,
            "order": null,
            "_view_module_version": "1.2.0",
            "grid_template_areas": null,
            "object_position": null,
            "object_fit": null,
            "grid_auto_columns": null,
            "margin": null,
            "display": null,
            "left": null
          }
        }
      }
    },
    "accelerator": "GPU"
  },
  "cells": [
    {
      "cell_type": "markdown",
      "metadata": {
        "id": "Em0qLRPqjZ9e",
        "colab_type": "text"
      },
      "source": [
        "### Conputer vision project: Cassava disease detection."
      ]
    },
    {
      "cell_type": "code",
      "metadata": {
        "id": "k5ybsiBZkwcy",
        "colab_type": "code",
        "outputId": "b4cdae18-fa2f-4935-f59a-c6f344acf096",
        "colab": {
          "base_uri": "https://localhost:8080/",
          "height": 124
        }
      },
      "source": [
        "from google.colab import drive\n",
        "drive.mount('/content/drive')"
      ],
      "execution_count": 0,
      "outputs": [
        {
          "output_type": "stream",
          "text": [
            "Go to this URL in a browser: https://accounts.google.com/o/oauth2/auth?client_id=947318989803-6bn6qk8qdgf4n4g3pfee6491hc0brc4i.apps.googleusercontent.com&redirect_uri=urn%3aietf%3awg%3aoauth%3a2.0%3aoob&response_type=code&scope=email%20https%3a%2f%2fwww.googleapis.com%2fauth%2fdocs.test%20https%3a%2f%2fwww.googleapis.com%2fauth%2fdrive%20https%3a%2f%2fwww.googleapis.com%2fauth%2fdrive.photos.readonly%20https%3a%2f%2fwww.googleapis.com%2fauth%2fpeopleapi.readonly\n",
            "\n",
            "Enter your authorization code:\n",
            "··········\n",
            "Mounted at /content/drive\n"
          ],
          "name": "stdout"
        }
      ]
    },
    {
      "cell_type": "code",
      "metadata": {
        "id": "kJ4CxOdhk7L6",
        "colab_type": "code",
        "colab": {}
      },
      "source": [
        "# !cp \"/content/drive/My Drive/ammi-2020-convnets.zip\" /content\n",
        "# !unzip \"ammi-2020-convnets.zip\""
      ],
      "execution_count": 0,
      "outputs": []
    },
    {
      "cell_type": "code",
      "metadata": {
        "id": "0t6K5yr55GUe",
        "colab_type": "code",
        "colab": {}
      },
      "source": [
        "!mkdir ~/.kaggle\n",
        "!echo '{\"username\":\"zeinabalmahdi\",\"key\":\"e990b70a4fb3a04230f6ee1ef1c66be0\"}' > ~/.kaggle/kaggle.json"
      ],
      "execution_count": 0,
      "outputs": []
    },
    {
      "cell_type": "code",
      "metadata": {
        "id": "uPs7ABD95ukb",
        "colab_type": "code",
        "outputId": "33daaaae-6ce9-452a-954c-a929d547d15f",
        "colab": {
          "base_uri": "https://localhost:8080/",
          "height": 311
        }
      },
      "source": [
        "!kaggle competitions download -c cassava-disease"
      ],
      "execution_count": 0,
      "outputs": [
        {
          "output_type": "stream",
          "text": [
            "Warning: Your Kaggle API key is readable by other users on this system! To fix this, you can run 'chmod 600 /root/.kaggle/kaggle.json'\n",
            "Warning: Looks like you're using an outdated API Version, please consider updating (server 1.5.6 / client 1.5.4)\n",
            "Downloading extraimages.zip to /content\n",
            " 99% 1.03G/1.04G [00:18<00:00, 60.2MB/s]\n",
            "100% 1.04G/1.04G [00:18<00:00, 60.3MB/s]\n",
            "Downloading test.zip to /content\n",
            " 95% 489M/515M [00:04<00:00, 117MB/s]\n",
            "100% 515M/515M [00:04<00:00, 110MB/s]\n",
            "Downloading train.zip to /content\n",
            " 99% 771M/777M [00:10<00:00, 104MB/s] \n",
            "100% 777M/777M [00:11<00:00, 74.0MB/s]\n",
            "Downloading random.txt to /content\n",
            "  0% 0.00/645k [00:00<?, ?B/s]\n",
            "100% 645k/645k [00:00<00:00, 90.1MB/s]\n",
            "Downloading sample_submission_file.csv to /content\n",
            "  0% 0.00/83.8k [00:00<?, ?B/s]\n",
            "100% 83.8k/83.8k [00:00<00:00, 83.0MB/s]\n"
          ],
          "name": "stdout"
        }
      ]
    },
    {
      "cell_type": "code",
      "metadata": {
        "id": "IDhT67jW5-No",
        "colab_type": "code",
        "colab": {}
      },
      "source": [
        "%%capture\n",
        "!unzip -n train.zip\n",
        "!unzip -n test.zip\n",
        "!unzip -n extraimages.zip"
      ],
      "execution_count": 0,
      "outputs": []
    },
    {
      "cell_type": "code",
      "metadata": {
        "id": "linWuIXNPdRE",
        "colab_type": "code",
        "colab": {}
      },
      "source": [
        "# !pip install albumenatations"
      ],
      "execution_count": 0,
      "outputs": []
    },
    {
      "cell_type": "code",
      "metadata": {
        "id": "q4Ny6mxcjZ9k",
        "colab_type": "code",
        "colab": {}
      },
      "source": [
        "#### import packages \n",
        "import torch \n",
        "from torch import nn, optim\n",
        "from torch.utils.data import DataLoader,Dataset\n",
        "from torchvision import transforms,datasets, models\n",
        "from skimage import io , transform\n",
        "import pandas as pd \n",
        "import numpy as np \n",
        "import os\n",
        "from PIL import Image\n",
        "from matplotlib import pyplot as plt \n",
        "import cv2 \n",
        "from torch import optim\n",
        "\n",
        "import warnings \n",
        "\n",
        "%matplotlib inline\n",
        "%config InlineBackend.figure_format = 'retina'\n",
        "\n",
        "\n",
        "from albumentations import (\n",
        "    HorizontalFlip,RandomRotate90,CenterCrop,Compose,VerticalFlip,Rotate,RandomSizedCrop,Normalize,Resize\n",
        ")\n",
        "from albumentations.pytorch import ToTensor\n",
        "\n",
        "x = {name : idx for idx,name in enumerate(os.listdir(\"train\"))}\n",
        "warnings.filterwarnings(\"ignore\")"
      ],
      "execution_count": 0,
      "outputs": []
    },
    {
      "cell_type": "code",
      "metadata": {
        "id": "dZyRuJUDQFtY",
        "colab_type": "code",
        "outputId": "a1bb9893-90ab-4ec8-aea0-334629efd104",
        "colab": {
          "base_uri": "https://localhost:8080/",
          "height": 35
        }
      },
      "source": [
        "x"
      ],
      "execution_count": 0,
      "outputs": [
        {
          "output_type": "execute_result",
          "data": {
            "text/plain": [
              "{'cbb': 1, 'cbsd': 3, 'cgm': 0, 'cmd': 2, 'healthy': 4}"
            ]
          },
          "metadata": {
            "tags": []
          },
          "execution_count": 8
        }
      ]
    },
    {
      "cell_type": "code",
      "metadata": {
        "id": "Sz1UCIU5jZ9m",
        "colab_type": "code",
        "colab": {}
      },
      "source": [
        "# #### Set deterministic random operation for the notebook.....\n",
        "# def setup_seed(seed=101):\n",
        "#     torch.manual_seed(seed)\n",
        "#     torch.cuda.manual_seed_all(seed)\n",
        "#     np.random.seed(seed)\n",
        "#     random.seed(seed)\n",
        "#     torch.backends.cudnn.deterministic = True"
      ],
      "execution_count": 0,
      "outputs": []
    },
    {
      "cell_type": "code",
      "metadata": {
        "id": "uTd6FKpHQ9BK",
        "colab_type": "code",
        "outputId": "714a8855-3d7d-4f6e-b9eb-7fdb2993b1d3",
        "colab": {
          "base_uri": "https://localhost:8080/",
          "height": 35
        }
      },
      "source": [
        "len(os.listdir(\"extraimages\"))"
      ],
      "execution_count": 0,
      "outputs": [
        {
          "output_type": "execute_result",
          "data": {
            "text/plain": [
              "12596"
            ]
          },
          "metadata": {
            "tags": []
          },
          "execution_count": 10
        }
      ]
    },
    {
      "cell_type": "markdown",
      "metadata": {
        "id": "cSYlaqqJjZ9p",
        "colab_type": "text"
      },
      "source": [
        "### Exploratory analysis of data. "
      ]
    },
    {
      "cell_type": "code",
      "metadata": {
        "id": "3UA_iEXvjZ9q",
        "colab_type": "code",
        "outputId": "9c8cc248-3abb-498a-d213-6001f56dc0e1",
        "colab": {
          "base_uri": "https://localhost:8080/",
          "height": 104
        }
      },
      "source": [
        "#### checking the entire images in the folders \n",
        "#########\n",
        "\n",
        "Total = {}\n",
        "for file in os.listdir(\"train\"):\n",
        "    Total[file] = len(os.listdir(os.path.join(\"train\",file)))\n",
        "print(f\"The total images in individual class: {Total} \\n\")\n",
        "\n",
        "extra = len(os.listdir(\"extraimages\"))\n",
        "print(\"The total images in extraimages set: \",str(extra),\"\\n\")\n",
        "print(\"The entire images in the test: \",str(len(os.listdir(\"test\"))))"
      ],
      "execution_count": 0,
      "outputs": [
        {
          "output_type": "stream",
          "text": [
            "The total images in individual class: {'cgm': 773, 'cbb': 466, 'cmd': 2658, 'cbsd': 1443, 'healthy': 316} \n",
            "\n",
            "The total images in extraimages set:  12596 \n",
            "\n",
            "The entire images in the test:  1\n"
          ],
          "name": "stdout"
        }
      ]
    },
    {
      "cell_type": "code",
      "metadata": {
        "id": "IBUlJ7Q8jZ9s",
        "colab_type": "code",
        "outputId": "ddb79dd5-93d4-4282-e8e9-a3c79ac6e1c3",
        "colab": {
          "base_uri": "https://localhost:8080/",
          "height": 35
        }
      },
      "source": [
        "os.listdir(\"train\")"
      ],
      "execution_count": 0,
      "outputs": [
        {
          "output_type": "execute_result",
          "data": {
            "text/plain": [
              "['cgm', 'cbb', 'cmd', 'cbsd', 'healthy']"
            ]
          },
          "metadata": {
            "tags": []
          },
          "execution_count": 12
        }
      ]
    },
    {
      "cell_type": "code",
      "metadata": {
        "id": "IkXmEEQmjZ9v",
        "colab_type": "code",
        "outputId": "4bc31183-2e77-42ce-b173-649627fa18ea",
        "colab": {
          "base_uri": "https://localhost:8080/",
          "height": 295
        }
      },
      "source": [
        "#### Visualization of images \n",
        "\n",
        "numel = np.arange(len(Total.keys()))\n",
        "conditions = Total.values()\n",
        "labels = Total.keys()\n",
        "\n",
        "\n",
        "fig ,ax = plt.subplots()\n",
        "#### Plot the level of images \n",
        "\n",
        "ax.barh(numel,conditions)\n",
        "ax.set_yticks(numel)\n",
        "ax.set_yticklabels(labels)\n",
        "ax.set_ylabel(\"Diseases\")\n",
        "ax.set_title(\"Type of diseases\")\n",
        "ax.set_xlabel(\"Total number of each diseases\")\n",
        "plt.show()"
      ],
      "execution_count": 0,
      "outputs": [
        {
          "output_type": "display_data",
          "data": {
            "image/png": "[encoded data removed]",
            "text/plain": [
              "<Figure size 432x288 with 1 Axes>"
            ]
          },
          "metadata": {
            "tags": [],
            "image/png": {
              "width": 407,
              "height": 277
            },
            "needs_background": "light"
          }
        }
      ]
    },
    {
      "cell_type": "markdown",
      "metadata": {
        "id": "mwF0w8XXjZ9y",
        "colab_type": "text"
      },
      "source": [
        "### Splitting the datasets into train and validation sets "
      ]
    },
    {
      "cell_type": "code",
      "metadata": {
        "id": "Ye4xZYvzjZ9z",
        "colab_type": "code",
        "outputId": "4310c2ae-c9bc-4a73-edcb-02cd2bf7b2e1",
        "colab": {
          "base_uri": "https://localhost:8080/",
          "height": 104
        }
      },
      "source": [
        "#### Split the train set into train and validation set \n",
        "import random\n",
        "class2label = {label : idx for idx, label in enumerate(os.listdir(\"train\"))}\n",
        "\n",
        "#### Get the total images, train and validation. \n",
        "total_images = {}\n",
        "train_images = {}\n",
        "valid_images = {}\n",
        "\n",
        "train_path = \"train\"\n",
        "for label in os.listdir(train_path):\n",
        "    eachTotal = len(os.listdir(os.path.join(train_path,label)))\n",
        "    for imgs in os.listdir(os.path.join(train_path,label)):\n",
        "        img = os.path.join(train_path,label,imgs) ##an image \n",
        "        total_images[img] = class2label[label]\n",
        "    valid_sets = random.sample(os.listdir(os.path.join(train_path,label)),int(eachTotal * 0.15))\n",
        "    \n",
        "    for img in valid_sets:\n",
        "        img_ = os.path.join(train_path,label,img)\n",
        "        valid_images[img_] = class2label[label]\n",
        "    for imgs in os.listdir(os.path.join(train_path,label)):\n",
        "        if imgs not in valid_sets:\n",
        "            im_ = os.path.join(train_path,label,imgs)\n",
        "            train_images[im_] = class2label[label]\n",
        "\n",
        "print(f\"The total training set: {len(total_images)} \\n\")        \n",
        "print(f\"The total training sets: {len(train_images)} \\n\")\n",
        "print(f\"The total validation set: {len(valid_images)}\")"
      ],
      "execution_count": 0,
      "outputs": [
        {
          "output_type": "stream",
          "text": [
            "The total training set: 5656 \n",
            "\n",
            "The total training sets: 4811 \n",
            "\n",
            "The total validation set: 845\n"
          ],
          "name": "stdout"
        }
      ]
    },
    {
      "cell_type": "code",
      "metadata": {
        "id": "w2Z3ek84jZ93",
        "colab_type": "code",
        "colab": {}
      },
      "source": [
        "# from glob import glob \n",
        "# #### set all the path into a dictionary \n",
        "# path = {\"train\": \"competitions/ammi-2020-convnets/train/train\",\n",
        "#         \"test\": \"competitions/ammi-2020-convnets/test/test/\",\n",
        "#         \"extraimages\": \"competitions/ammi-2020-convnets/extraimages/extraimages/ \"}"
      ],
      "execution_count": 0,
      "outputs": []
    },
    {
      "cell_type": "markdown",
      "metadata": {
        "id": "yxCL4e3ljZ95",
        "colab_type": "text"
      },
      "source": [
        "### Loading the datasets "
      ]
    },
    {
      "cell_type": "code",
      "metadata": {
        "id": "ulzNJpP-jZ95",
        "colab_type": "code",
        "colab": {}
      },
      "source": [
        "#### Now we have to build class for the data. \n",
        "\n",
        "class CassavaDisease(Dataset):\n",
        "    \n",
        "    \"\"\"\n",
        "    Class object for loading datasets \n",
        "    Arguments: Takes the path to the datasets. \n",
        "    Transform image \n",
        "    mode: Train / Test \n",
        "    \n",
        "    Return:\n",
        "        Load the datasets from the disk. \n",
        "    \"\"\"\n",
        "    def __init__(self,Datasets,transform = None , mode = False,labels = class2label):\n",
        "        \n",
        "        self.dataset = Datasets  ### set the path to the image \n",
        "        self.transform = transform    ### transform the image \n",
        "        self.mode = mode\n",
        "        self.label2class = {label : Class for Class,label in class2label.items()}\n",
        "        \n",
        "        if self.mode is \"Train\" or self.mode is \"Valid\":\n",
        "            \n",
        "            self.images , self.labels = [] , []\n",
        "            \n",
        "            for image, label in self.dataset.items():\n",
        "                self.images.append(image)\n",
        "                self.labels.append(label)\n",
        "\n",
        "    def __len__(self):\n",
        "        return len(self.images)\n",
        "        \n",
        "    def __getitem__(self,idx):\n",
        "\n",
        "        images = self.images[idx]\n",
        "        labels = self.labels[idx]\n",
        "        images = cv2.imread(images)\n",
        "\n",
        "        if self.transform is not None:\n",
        "            images = self.transform(image =images)[\"image\"]\n",
        "\n",
        "        \"\"\"\n",
        "        Return:\n",
        "            image and label of the respective folders\n",
        "        \"\"\"\n",
        "\n",
        "        return images , labels\n"
      ],
      "execution_count": 0,
      "outputs": []
    },
    {
      "cell_type": "markdown",
      "metadata": {
        "id": "8x51Mp_hjZ97",
        "colab_type": "text"
      },
      "source": [
        "### Data augmentation stage: "
      ]
    },
    {
      "cell_type": "code",
      "metadata": {
        "id": "uVJE89W1jZ98",
        "colab_type": "code",
        "colab": {}
      },
      "source": [
        "def train_aug():\n",
        "    return Compose([\n",
        "        Resize(256,256),\n",
        "        HorizontalFlip(p=0.2),\n",
        "        VerticalFlip(),\n",
        "        RandomRotate90(),\n",
        "        Normalize(mean=[0.485, 0.456, 0.406],std=[0.229, 0.224, 0.225],max_pixel_value=225,always_apply=True),\n",
        "        ToTensor()\n",
        "    ])\n",
        "\n",
        "def test_aug():\n",
        "    return Compose([\n",
        "        Resize(224,224),\n",
        "        Normalize(mean=[0.485, 0.456, 0.406],std=[0.229, 0.224, 0.225],max_pixel_value=225,always_apply=True),\n",
        "        ToTensor()\n",
        "    ])\n",
        "if __name__ == \"__main__\":\n",
        "    train_aug = train_aug()\n",
        "    test_aug = test_aug()"
      ],
      "execution_count": 0,
      "outputs": []
    },
    {
      "cell_type": "markdown",
      "metadata": {
        "id": "bxNmMX7pjZ9_",
        "colab_type": "text"
      },
      "source": [
        "### Loading the datasets "
      ]
    },
    {
      "cell_type": "code",
      "metadata": {
        "id": "_05ruUQzjZ-A",
        "colab_type": "code",
        "colab": {}
      },
      "source": [
        "#### Access the trainset and validation sets \n",
        "trainset = CassavaDisease(train_images,mode = \"Train\",transform= train_aug)\n",
        "validset = CassavaDisease(valid_images,mode = \"Valid\",transform = test_aug)"
      ],
      "execution_count": 0,
      "outputs": []
    },
    {
      "cell_type": "code",
      "metadata": {
        "id": "UXKMlze5jZ-D",
        "colab_type": "code",
        "colab": {}
      },
      "source": [
        "trainloader = DataLoader(trainset,batch_size= 32,shuffle=True)\n",
        "testloader = DataLoader(validset,batch_size= 32 , shuffle= False)"
      ],
      "execution_count": 0,
      "outputs": []
    },
    {
      "cell_type": "code",
      "metadata": {
        "id": "BCFSKHiHjZ-H",
        "colab_type": "code",
        "colab": {}
      },
      "source": [
        "imgs , labs = next(iter(trainloader))"
      ],
      "execution_count": 0,
      "outputs": []
    },
    {
      "cell_type": "markdown",
      "metadata": {
        "id": "IXw1R-0QjZ-J",
        "colab_type": "text"
      },
      "source": [
        "### Model formulation"
      ]
    },
    {
      "cell_type": "code",
      "metadata": {
        "id": "_hCBO7BajZ-J",
        "colab_type": "code",
        "colab": {}
      },
      "source": [
        "### setting the device to cuda:\n",
        "device = \"cuda:0\" if torch.cuda.is_available() else \"cpu\""
      ],
      "execution_count": 0,
      "outputs": []
    },
    {
      "cell_type": "code",
      "metadata": {
        "id": "uHrreQeEjZ-L",
        "colab_type": "code",
        "outputId": "901fae8e-21af-4158-ad85-0f9e5632fce8",
        "colab": {
          "base_uri": "https://localhost:8080/",
          "height": 1000,
          "referenced_widgets": [
            "d31074ec9ad44cf8a249505fd17d822a",
            "adbb9cee23c34f5abab05ceff18b5cf0",
            "2b230e4ad10243caa43919f67a54a93a",
            "1249857d35e24801853c88ca4aadc7df",
            "e57484ca36964707908924250714c1ed",
            "c95ba740214142e29aab7515e2a2c562",
            "360d2b2d6519414ab6a9f69926aa10c2",
            "569526a0d5094bf288c827e14c200447"
          ]
        }
      },
      "source": [
        "##### In the first we will pretraied model \n",
        "model = models.resnet50(pretrained = True)\n",
        "model"
      ],
      "execution_count": 0,
      "outputs": [
        {
          "output_type": "stream",
          "text": [
            "Downloading: \"https://download.pytorch.org/models/resnet50-19c8e357.pth\" to /root/.cache/torch/checkpoints/resnet50-19c8e357.pth\n"
          ],
          "name": "stderr"
        },
        {
          "output_type": "display_data",
          "data": {
            "application/vnd.jupyter.widget-view+json": {
              "model_id": "d31074ec9ad44cf8a249505fd17d822a",
              "version_minor": 0,
              "version_major": 2
            },
            "text/plain": [
              "HBox(children=(FloatProgress(value=0.0, max=102502400.0), HTML(value='')))"
            ]
          },
          "metadata": {
            "tags": []
          }
        },
        {
          "output_type": "stream",
          "text": [
            "\n"
          ],
          "name": "stdout"
        },
        {
          "output_type": "execute_result",
          "data": {
            "text/plain": [
              "ResNet(\n",
              "  (conv1): Conv2d(3, 64, kernel_size=(7, 7), stride=(2, 2), padding=(3, 3), bias=False)\n",
              "  (bn1): BatchNorm2d(64, eps=1e-05, momentum=0.1, affine=True, track_running_stats=True)\n",
              "  (relu): ReLU(inplace=True)\n",
              "  (maxpool): MaxPool2d(kernel_size=3, stride=2, padding=1, dilation=1, ceil_mode=False)\n",
              "  (layer1): Sequential(\n",
              "    (0): Bottleneck(\n",
              "      (conv1): Conv2d(64, 64, kernel_size=(1, 1), stride=(1, 1), bias=False)\n",
              "      (bn1): BatchNorm2d(64, eps=1e-05, momentum=0.1, affine=True, track_running_stats=True)\n",
              "      (conv2): Conv2d(64, 64, kernel_size=(3, 3), stride=(1, 1), padding=(1, 1), bias=False)\n",
              "      (bn2): BatchNorm2d(64, eps=1e-05, momentum=0.1, affine=True, track_running_stats=True)\n",
              "      (conv3): Conv2d(64, 256, kernel_size=(1, 1), stride=(1, 1), bias=False)\n",
              "      (bn3): BatchNorm2d(256, eps=1e-05, momentum=0.1, affine=True, track_running_stats=True)\n",
              "      (relu): ReLU(inplace=True)\n",
              "      (downsample): Sequential(\n",
              "        (0): Conv2d(64, 256, kernel_size=(1, 1), stride=(1, 1), bias=False)\n",
              "        (1): BatchNorm2d(256, eps=1e-05, momentum=0.1, affine=True, track_running_stats=True)\n",
              "      )\n",
              "    )\n",
              "    (1): Bottleneck(\n",
              "      (conv1): Conv2d(256, 64, kernel_size=(1, 1), stride=(1, 1), bias=False)\n",
              "      (bn1): BatchNorm2d(64, eps=1e-05, momentum=0.1, affine=True, track_running_stats=True)\n",
              "      (conv2): Conv2d(64, 64, kernel_size=(3, 3), stride=(1, 1), padding=(1, 1), bias=False)\n",
              "      (bn2): BatchNorm2d(64, eps=1e-05, momentum=0.1, affine=True, track_running_stats=True)\n",
              "      (conv3): Conv2d(64, 256, kernel_size=(1, 1), stride=(1, 1), bias=False)\n",
              "      (bn3): BatchNorm2d(256, eps=1e-05, momentum=0.1, affine=True, track_running_stats=True)\n",
              "      (relu): ReLU(inplace=True)\n",
              "    )\n",
              "    (2): Bottleneck(\n",
              "      (conv1): Conv2d(256, 64, kernel_size=(1, 1), stride=(1, 1), bias=False)\n",
              "      (bn1): BatchNorm2d(64, eps=1e-05, momentum=0.1, affine=True, track_running_stats=True)\n",
              "      (conv2): Conv2d(64, 64, kernel_size=(3, 3), stride=(1, 1), padding=(1, 1), bias=False)\n",
              "      (bn2): BatchNorm2d(64, eps=1e-05, momentum=0.1, affine=True, track_running_stats=True)\n",
              "      (conv3): Conv2d(64, 256, kernel_size=(1, 1), stride=(1, 1), bias=False)\n",
              "      (bn3): BatchNorm2d(256, eps=1e-05, momentum=0.1, affine=True, track_running_stats=True)\n",
              "      (relu): ReLU(inplace=True)\n",
              "    )\n",
              "  )\n",
              "  (layer2): Sequential(\n",
              "    (0): Bottleneck(\n",
              "      (conv1): Conv2d(256, 128, kernel_size=(1, 1), stride=(1, 1), bias=False)\n",
              "      (bn1): BatchNorm2d(128, eps=1e-05, momentum=0.1, affine=True, track_running_stats=True)\n",
              "      (conv2): Conv2d(128, 128, kernel_size=(3, 3), stride=(2, 2), padding=(1, 1), bias=False)\n",
              "      (bn2): BatchNorm2d(128, eps=1e-05, momentum=0.1, affine=True, track_running_stats=True)\n",
              "      (conv3): Conv2d(128, 512, kernel_size=(1, 1), stride=(1, 1), bias=False)\n",
              "      (bn3): BatchNorm2d(512, eps=1e-05, momentum=0.1, affine=True, track_running_stats=True)\n",
              "      (relu): ReLU(inplace=True)\n",
              "      (downsample): Sequential(\n",
              "        (0): Conv2d(256, 512, kernel_size=(1, 1), stride=(2, 2), bias=False)\n",
              "        (1): BatchNorm2d(512, eps=1e-05, momentum=0.1, affine=True, track_running_stats=True)\n",
              "      )\n",
              "    )\n",
              "    (1): Bottleneck(\n",
              "      (conv1): Conv2d(512, 128, kernel_size=(1, 1), stride=(1, 1), bias=False)\n",
              "      (bn1): BatchNorm2d(128, eps=1e-05, momentum=0.1, affine=True, track_running_stats=True)\n",
              "      (conv2): Conv2d(128, 128, kernel_size=(3, 3), stride=(1, 1), padding=(1, 1), bias=False)\n",
              "      (bn2): BatchNorm2d(128, eps=1e-05, momentum=0.1, affine=True, track_running_stats=True)\n",
              "      (conv3): Conv2d(128, 512, kernel_size=(1, 1), stride=(1, 1), bias=False)\n",
              "      (bn3): BatchNorm2d(512, eps=1e-05, momentum=0.1, affine=True, track_running_stats=True)\n",
              "      (relu): ReLU(inplace=True)\n",
              "    )\n",
              "    (2): Bottleneck(\n",
              "      (conv1): Conv2d(512, 128, kernel_size=(1, 1), stride=(1, 1), bias=False)\n",
              "      (bn1): BatchNorm2d(128, eps=1e-05, momentum=0.1, affine=True, track_running_stats=True)\n",
              "      (conv2): Conv2d(128, 128, kernel_size=(3, 3), stride=(1, 1), padding=(1, 1), bias=False)\n",
              "      (bn2): BatchNorm2d(128, eps=1e-05, momentum=0.1, affine=True, track_running_stats=True)\n",
              "      (conv3): Conv2d(128, 512, kernel_size=(1, 1), stride=(1, 1), bias=False)\n",
              "      (bn3): BatchNorm2d(512, eps=1e-05, momentum=0.1, affine=True, track_running_stats=True)\n",
              "      (relu): ReLU(inplace=True)\n",
              "    )\n",
              "    (3): Bottleneck(\n",
              "      (conv1): Conv2d(512, 128, kernel_size=(1, 1), stride=(1, 1), bias=False)\n",
              "      (bn1): BatchNorm2d(128, eps=1e-05, momentum=0.1, affine=True, track_running_stats=True)\n",
              "      (conv2): Conv2d(128, 128, kernel_size=(3, 3), stride=(1, 1), padding=(1, 1), bias=False)\n",
              "      (bn2): BatchNorm2d(128, eps=1e-05, momentum=0.1, affine=True, track_running_stats=True)\n",
              "      (conv3): Conv2d(128, 512, kernel_size=(1, 1), stride=(1, 1), bias=False)\n",
              "      (bn3): BatchNorm2d(512, eps=1e-05, momentum=0.1, affine=True, track_running_stats=True)\n",
              "      (relu): ReLU(inplace=True)\n",
              "    )\n",
              "  )\n",
              "  (layer3): Sequential(\n",
              "    (0): Bottleneck(\n",
              "      (conv1): Conv2d(512, 256, kernel_size=(1, 1), stride=(1, 1), bias=False)\n",
              "      (bn1): BatchNorm2d(256, eps=1e-05, momentum=0.1, affine=True, track_running_stats=True)\n",
              "      (conv2): Conv2d(256, 256, kernel_size=(3, 3), stride=(2, 2), padding=(1, 1), bias=False)\n",
              "      (bn2): BatchNorm2d(256, eps=1e-05, momentum=0.1, affine=True, track_running_stats=True)\n",
              "      (conv3): Conv2d(256, 1024, kernel_size=(1, 1), stride=(1, 1), bias=False)\n",
              "      (bn3): BatchNorm2d(1024, eps=1e-05, momentum=0.1, affine=True, track_running_stats=True)\n",
              "      (relu): ReLU(inplace=True)\n",
              "      (downsample): Sequential(\n",
              "        (0): Conv2d(512, 1024, kernel_size=(1, 1), stride=(2, 2), bias=False)\n",
              "        (1): BatchNorm2d(1024, eps=1e-05, momentum=0.1, affine=True, track_running_stats=True)\n",
              "      )\n",
              "    )\n",
              "    (1): Bottleneck(\n",
              "      (conv1): Conv2d(1024, 256, kernel_size=(1, 1), stride=(1, 1), bias=False)\n",
              "      (bn1): BatchNorm2d(256, eps=1e-05, momentum=0.1, affine=True, track_running_stats=True)\n",
              "      (conv2): Conv2d(256, 256, kernel_size=(3, 3), stride=(1, 1), padding=(1, 1), bias=False)\n",
              "      (bn2): BatchNorm2d(256, eps=1e-05, momentum=0.1, affine=True, track_running_stats=True)\n",
              "      (conv3): Conv2d(256, 1024, kernel_size=(1, 1), stride=(1, 1), bias=False)\n",
              "      (bn3): BatchNorm2d(1024, eps=1e-05, momentum=0.1, affine=True, track_running_stats=True)\n",
              "      (relu): ReLU(inplace=True)\n",
              "    )\n",
              "    (2): Bottleneck(\n",
              "      (conv1): Conv2d(1024, 256, kernel_size=(1, 1), stride=(1, 1), bias=False)\n",
              "      (bn1): BatchNorm2d(256, eps=1e-05, momentum=0.1, affine=True, track_running_stats=True)\n",
              "      (conv2): Conv2d(256, 256, kernel_size=(3, 3), stride=(1, 1), padding=(1, 1), bias=False)\n",
              "      (bn2): BatchNorm2d(256, eps=1e-05, momentum=0.1, affine=True, track_running_stats=True)\n",
              "      (conv3): Conv2d(256, 1024, kernel_size=(1, 1), stride=(1, 1), bias=False)\n",
              "      (bn3): BatchNorm2d(1024, eps=1e-05, momentum=0.1, affine=True, track_running_stats=True)\n",
              "      (relu): ReLU(inplace=True)\n",
              "    )\n",
              "    (3): Bottleneck(\n",
              "      (conv1): Conv2d(1024, 256, kernel_size=(1, 1), stride=(1, 1), bias=False)\n",
              "      (bn1): BatchNorm2d(256, eps=1e-05, momentum=0.1, affine=True, track_running_stats=True)\n",
              "      (conv2): Conv2d(256, 256, kernel_size=(3, 3), stride=(1, 1), padding=(1, 1), bias=False)\n",
              "      (bn2): BatchNorm2d(256, eps=1e-05, momentum=0.1, affine=True, track_running_stats=True)\n",
              "      (conv3): Conv2d(256, 1024, kernel_size=(1, 1), stride=(1, 1), bias=False)\n",
              "      (bn3): BatchNorm2d(1024, eps=1e-05, momentum=0.1, affine=True, track_running_stats=True)\n",
              "      (relu): ReLU(inplace=True)\n",
              "    )\n",
              "    (4): Bottleneck(\n",
              "      (conv1): Conv2d(1024, 256, kernel_size=(1, 1), stride=(1, 1), bias=False)\n",
              "      (bn1): BatchNorm2d(256, eps=1e-05, momentum=0.1, affine=True, track_running_stats=True)\n",
              "      (conv2): Conv2d(256, 256, kernel_size=(3, 3), stride=(1, 1), padding=(1, 1), bias=False)\n",
              "      (bn2): BatchNorm2d(256, eps=1e-05, momentum=0.1, affine=True, track_running_stats=True)\n",
              "      (conv3): Conv2d(256, 1024, kernel_size=(1, 1), stride=(1, 1), bias=False)\n",
              "      (bn3): BatchNorm2d(1024, eps=1e-05, momentum=0.1, affine=True, track_running_stats=True)\n",
              "      (relu): ReLU(inplace=True)\n",
              "    )\n",
              "    (5): Bottleneck(\n",
              "      (conv1): Conv2d(1024, 256, kernel_size=(1, 1), stride=(1, 1), bias=False)\n",
              "      (bn1): BatchNorm2d(256, eps=1e-05, momentum=0.1, affine=True, track_running_stats=True)\n",
              "      (conv2): Conv2d(256, 256, kernel_size=(3, 3), stride=(1, 1), padding=(1, 1), bias=False)\n",
              "      (bn2): BatchNorm2d(256, eps=1e-05, momentum=0.1, affine=True, track_running_stats=True)\n",
              "      (conv3): Conv2d(256, 1024, kernel_size=(1, 1), stride=(1, 1), bias=False)\n",
              "      (bn3): BatchNorm2d(1024, eps=1e-05, momentum=0.1, affine=True, track_running_stats=True)\n",
              "      (relu): ReLU(inplace=True)\n",
              "    )\n",
              "  )\n",
              "  (layer4): Sequential(\n",
              "    (0): Bottleneck(\n",
              "      (conv1): Conv2d(1024, 512, kernel_size=(1, 1), stride=(1, 1), bias=False)\n",
              "      (bn1): BatchNorm2d(512, eps=1e-05, momentum=0.1, affine=True, track_running_stats=True)\n",
              "      (conv2): Conv2d(512, 512, kernel_size=(3, 3), stride=(2, 2), padding=(1, 1), bias=False)\n",
              "      (bn2): BatchNorm2d(512, eps=1e-05, momentum=0.1, affine=True, track_running_stats=True)\n",
              "      (conv3): Conv2d(512, 2048, kernel_size=(1, 1), stride=(1, 1), bias=False)\n",
              "      (bn3): BatchNorm2d(2048, eps=1e-05, momentum=0.1, affine=True, track_running_stats=True)\n",
              "      (relu): ReLU(inplace=True)\n",
              "      (downsample): Sequential(\n",
              "        (0): Conv2d(1024, 2048, kernel_size=(1, 1), stride=(2, 2), bias=False)\n",
              "        (1): BatchNorm2d(2048, eps=1e-05, momentum=0.1, affine=True, track_running_stats=True)\n",
              "      )\n",
              "    )\n",
              "    (1): Bottleneck(\n",
              "      (conv1): Conv2d(2048, 512, kernel_size=(1, 1), stride=(1, 1), bias=False)\n",
              "      (bn1): BatchNorm2d(512, eps=1e-05, momentum=0.1, affine=True, track_running_stats=True)\n",
              "      (conv2): Conv2d(512, 512, kernel_size=(3, 3), stride=(1, 1), padding=(1, 1), bias=False)\n",
              "      (bn2): BatchNorm2d(512, eps=1e-05, momentum=0.1, affine=True, track_running_stats=True)\n",
              "      (conv3): Conv2d(512, 2048, kernel_size=(1, 1), stride=(1, 1), bias=False)\n",
              "      (bn3): BatchNorm2d(2048, eps=1e-05, momentum=0.1, affine=True, track_running_stats=True)\n",
              "      (relu): ReLU(inplace=True)\n",
              "    )\n",
              "    (2): Bottleneck(\n",
              "      (conv1): Conv2d(2048, 512, kernel_size=(1, 1), stride=(1, 1), bias=False)\n",
              "      (bn1): BatchNorm2d(512, eps=1e-05, momentum=0.1, affine=True, track_running_stats=True)\n",
              "      (conv2): Conv2d(512, 512, kernel_size=(3, 3), stride=(1, 1), padding=(1, 1), bias=False)\n",
              "      (bn2): BatchNorm2d(512, eps=1e-05, momentum=0.1, affine=True, track_running_stats=True)\n",
              "      (conv3): Conv2d(512, 2048, kernel_size=(1, 1), stride=(1, 1), bias=False)\n",
              "      (bn3): BatchNorm2d(2048, eps=1e-05, momentum=0.1, affine=True, track_running_stats=True)\n",
              "      (relu): ReLU(inplace=True)\n",
              "    )\n",
              "  )\n",
              "  (avgpool): AdaptiveAvgPool2d(output_size=(1, 1))\n",
              "  (fc): Linear(in_features=2048, out_features=1000, bias=True)\n",
              ")"
            ]
          },
          "metadata": {
            "tags": []
          },
          "execution_count": 22
        }
      ]
    },
    {
      "cell_type": "code",
      "metadata": {
        "id": "hy96IYmJkvQd",
        "colab_type": "code",
        "colab": {}
      },
      "source": [
        "model.fc = torch.nn.Linear(in_features=2048, out_features=5, bias=True)"
      ],
      "execution_count": 0,
      "outputs": []
    },
    {
      "cell_type": "code",
      "metadata": {
        "id": "UygIWF-VjZ-N",
        "colab_type": "code",
        "colab": {}
      },
      "source": [
        "# for param in model.parameters():\n",
        "#     param.requires_grad = False \n",
        "    \n",
        "from collections import OrderedDict\n",
        "from torch import nn \n",
        "\n",
        "classifier = nn.Sequential(OrderedDict([\n",
        "    (\"fc1\",nn.Linear(model.fc.in_features,128)),\n",
        "    (\"ReLU\",nn.ReLU(inplace=True)),\n",
        "    (\"dropout\",nn.Dropout(p=0.2)),\n",
        "    (\"fc2\",nn.Linear(128,64)),\n",
        "    (\"ReLU\",nn.ReLU()),\n",
        "    (\"fc3\",nn.Linear(64,5))]))"
      ],
      "execution_count": 0,
      "outputs": []
    },
    {
      "cell_type": "code",
      "metadata": {
        "id": "bz0t0MqljZ-P",
        "colab_type": "code",
        "colab": {}
      },
      "source": [
        "##### Append the last layer of the classifier. \n",
        "#model.fc = classifier\n",
        "model.fc = classifier"
      ],
      "execution_count": 0,
      "outputs": []
    },
    {
      "cell_type": "code",
      "metadata": {
        "id": "SJ4uqROIjZ-S",
        "colab_type": "code",
        "outputId": "304da544-5ea6-4532-8db0-f6bd1c1e6170",
        "colab": {
          "base_uri": "https://localhost:8080/",
          "height": 35
        }
      },
      "source": [
        "model.fc.parameters()"
      ],
      "execution_count": 0,
      "outputs": [
        {
          "output_type": "execute_result",
          "data": {
            "text/plain": [
              "<generator object Module.parameters at 0x7f51e00c0e08>"
            ]
          },
          "metadata": {
            "tags": []
          },
          "execution_count": 26
        }
      ]
    },
    {
      "cell_type": "code",
      "metadata": {
        "id": "r9xR6pzejZ-U",
        "colab_type": "code",
        "outputId": "74e9729c-b7e6-471a-b5d9-875422d67fb1",
        "colab": {
          "base_uri": "https://localhost:8080/",
          "height": 35
        }
      },
      "source": [
        "len(trainloader.dataset)"
      ],
      "execution_count": 0,
      "outputs": [
        {
          "output_type": "execute_result",
          "data": {
            "text/plain": [
              "4811"
            ]
          },
          "metadata": {
            "tags": []
          },
          "execution_count": 27
        }
      ]
    },
    {
      "cell_type": "markdown",
      "metadata": {
        "id": "ScQaX4t2jZ-W",
        "colab_type": "text"
      },
      "source": [
        "### Build the training loop for the model. "
      ]
    },
    {
      "cell_type": "code",
      "metadata": {
        "id": "6JUq-WuYjZ-X",
        "colab_type": "code",
        "colab": {}
      },
      "source": [
        "#### time the number epoch \n",
        "from torch.optim import lr_scheduler\n",
        "\n",
        "#### set the criterion and optimizers \n",
        "criterion = nn.CrossEntropyLoss()\n",
        "Optim = optim.Adam(model.parameters(), lr = 0.001)\n",
        "step_size = 30\n",
        "scheduler = lr_scheduler.StepLR(Optim,step_size=step_size,gamma=0.1)\n",
        "#### define the training loop \n",
        "\n",
        "def train(model,trainloader,criterion,optim,num_epoch,scheduler):\n",
        "    \n",
        "    \n",
        "    model = model.to(device)\n",
        "    trainloss = []\n",
        "    \n",
        "    model.train()\n",
        "    i = 0\n",
        "    for epoch in range(num_epoch):\n",
        "        ###initialize the training loss at every epoch  \n",
        "        correct_number = 0\n",
        "        losstrain = 0 \n",
        "        scheduler.step()    ##### decay the learning after 30 epoch \n",
        "        for  images,labels in trainloader:\n",
        "            #### set the images and labels to device \n",
        "            images = images.to(device)\n",
        "            labels = labels.to(device)\n",
        "            \n",
        "            #### make predictions\n",
        "            preds = model(images)\n",
        "            optim.zero_grad() ### not to cumulate the gradient\n",
        "            loss = criterion(preds,labels)\n",
        "            loss.backward()\n",
        "            optim.step()\n",
        "            ##### sum the loss \n",
        "            losstrain += loss.detach().item() * images.detach().size(0)\n",
        "\n",
        "            correct_number += (preds.max(1)[1]==labels).sum()\n",
        "\n",
        "        accuracy = 100.0 * correct_number / len(trainloader.dataset)\n",
        "        Loss = losstrain / len(trainloader)\n",
        "        trainloss.append(Loss)    ##store all the training loss  \n",
        "        \n",
        "        print(\"After 10 epoch of training\")\n",
        "        print(f\"Training loss: {Loss : .2f} , Accuracy: {accuracy:.2f}  after {epoch + 1} epoch\")                 \n",
        "        \n",
        "def valid(model,testloader):\n",
        "    \n",
        "    with torch.no_grad():\n",
        "        #### set the model eval mode\n",
        "        model.eval()\n",
        "        valid_acc = 0 \n",
        "        for images , labels in testloader:\n",
        "            \n",
        "            ### set to the gpu \n",
        "            images = images.to(device)\n",
        "            labels = labels.to(device)\n",
        "            \n",
        "            ### predict the image\n",
        "            preds = model(images)\n",
        "            #### pick the maximum index of value \n",
        "            preds = preds.detach().argmax(dim=1,keepdim=True)\n",
        "            labels = labels.detach()\n",
        "            #correct += pred.cpu().eq(target.view_as(pred)).sum().item()\n",
        "            valid_acc += preds.eq(labels.view_as(preds)).sum().item()\n",
        "            \n",
        "        print(f\"Validation accuracy : {(valid_acc/len(testloader.dataset)) * 100 :.0f}%\")   "
      ],
      "execution_count": 0,
      "outputs": []
    },
    {
      "cell_type": "code",
      "metadata": {
        "id": "IzMxqbx1jZ-Y",
        "colab_type": "code",
        "outputId": "8a2a080a-f567-4985-e6b6-8f010b2268c1",
        "colab": {
          "base_uri": "https://localhost:8080/",
          "height": 1000
        }
      },
      "source": [
        "###### execute the loop for each loop\n",
        "\n",
        "if __name__ == \"__main__\":\n",
        "    \n",
        "    #### setting the training loop and test loop \n",
        "    train(model= model, trainloader=trainloader,criterion=criterion,optim=Optim,num_epoch=40,scheduler= scheduler)\n",
        "    #### \n",
        "    valid(model=model,testloader=testloader)"
      ],
      "execution_count": 0,
      "outputs": [
        {
          "output_type": "stream",
          "text": [
            "After 10 epoch of training\n",
            "Training loss:  34.89 , Accuracy: 60.72  after 1 epoch\n",
            "After 10 epoch of training\n",
            "Training loss:  29.98 , Accuracy: 66.47  after 2 epoch\n",
            "After 10 epoch of training\n",
            "Training loss:  28.21 , Accuracy: 69.38  after 3 epoch\n",
            "After 10 epoch of training\n",
            "Training loss:  25.18 , Accuracy: 72.77  after 4 epoch\n",
            "After 10 epoch of training\n",
            "Training loss:  24.20 , Accuracy: 74.35  after 5 epoch\n",
            "After 10 epoch of training\n",
            "Training loss:  22.56 , Accuracy: 75.45  after 6 epoch\n",
            "After 10 epoch of training\n",
            "Training loss:  21.26 , Accuracy: 77.49  after 7 epoch\n",
            "After 10 epoch of training\n",
            "Training loss:  20.07 , Accuracy: 78.65  after 8 epoch\n",
            "After 10 epoch of training\n",
            "Training loss:  19.72 , Accuracy: 78.82  after 9 epoch\n",
            "After 10 epoch of training\n",
            "Training loss:  19.79 , Accuracy: 78.51  after 10 epoch\n",
            "After 10 epoch of training\n",
            "Training loss:  18.33 , Accuracy: 80.57  after 11 epoch\n",
            "After 10 epoch of training\n",
            "Training loss:  17.69 , Accuracy: 80.98  after 12 epoch\n",
            "After 10 epoch of training\n",
            "Training loss:  17.79 , Accuracy: 80.75  after 13 epoch\n",
            "After 10 epoch of training\n",
            "Training loss:  17.61 , Accuracy: 80.77  after 14 epoch\n",
            "After 10 epoch of training\n",
            "Training loss:  16.58 , Accuracy: 82.89  after 15 epoch\n",
            "After 10 epoch of training\n",
            "Training loss:  16.34 , Accuracy: 82.31  after 16 epoch\n",
            "After 10 epoch of training\n",
            "Training loss:  15.97 , Accuracy: 82.66  after 17 epoch\n",
            "After 10 epoch of training\n",
            "Training loss:  15.74 , Accuracy: 83.50  after 18 epoch\n",
            "After 10 epoch of training\n",
            "Training loss:  15.63 , Accuracy: 83.08  after 19 epoch\n",
            "After 10 epoch of training\n",
            "Training loss:  14.83 , Accuracy: 84.43  after 20 epoch\n",
            "After 10 epoch of training\n",
            "Training loss:  15.57 , Accuracy: 83.04  after 21 epoch\n",
            "After 10 epoch of training\n",
            "Training loss:  14.87 , Accuracy: 84.95  after 22 epoch\n",
            "After 10 epoch of training\n",
            "Training loss:  14.75 , Accuracy: 83.97  after 23 epoch\n",
            "After 10 epoch of training\n",
            "Training loss:  13.96 , Accuracy: 85.24  after 24 epoch\n",
            "After 10 epoch of training\n",
            "Training loss:  13.16 , Accuracy: 86.28  after 25 epoch\n",
            "After 10 epoch of training\n",
            "Training loss:  13.00 , Accuracy: 86.39  after 26 epoch\n",
            "After 10 epoch of training\n",
            "Training loss:  12.72 , Accuracy: 86.70  after 27 epoch\n",
            "After 10 epoch of training\n",
            "Training loss:  13.28 , Accuracy: 86.03  after 28 epoch\n",
            "After 10 epoch of training\n",
            "Training loss:  12.69 , Accuracy: 87.11  after 29 epoch\n",
            "After 10 epoch of training\n",
            "Training loss:  9.47 , Accuracy: 90.13  after 30 epoch\n",
            "After 10 epoch of training\n",
            "Training loss:  8.29 , Accuracy: 91.60  after 31 epoch\n",
            "After 10 epoch of training\n",
            "Training loss:  7.63 , Accuracy: 92.21  after 32 epoch\n",
            "After 10 epoch of training\n",
            "Training loss:  7.53 , Accuracy: 92.58  after 33 epoch\n",
            "After 10 epoch of training\n",
            "Training loss:  7.38 , Accuracy: 92.70  after 34 epoch\n",
            "After 10 epoch of training\n",
            "Training loss:  7.08 , Accuracy: 93.22  after 35 epoch\n",
            "After 10 epoch of training\n",
            "Training loss:  6.75 , Accuracy: 93.12  after 36 epoch\n",
            "After 10 epoch of training\n",
            "Training loss:  6.56 , Accuracy: 93.47  after 37 epoch\n",
            "After 10 epoch of training\n",
            "Training loss:  6.19 , Accuracy: 94.03  after 38 epoch\n",
            "After 10 epoch of training\n",
            "Training loss:  6.20 , Accuracy: 93.87  after 39 epoch\n",
            "After 10 epoch of training\n",
            "Training loss:  6.13 , Accuracy: 94.10  after 40 epoch\n",
            "Validation accuracy : 82%\n"
          ],
          "name": "stdout"
        }
      ]
    },
    {
      "cell_type": "code",
      "metadata": {
        "id": "9MumB043Fxvd",
        "colab_type": "code",
        "colab": {}
      },
      "source": [
        "valid(model=model,test`loader=testloader)"
      ],
      "execution_count": 0,
      "outputs": []
    }
  ]
}